{
  "nbformat": 4,
  "nbformat_minor": 0,
  "metadata": {
    "colab": {
      "name": "Telegram Bot with PYTHON for Beginners.ipynb",
      "provenance": [],
      "collapsed_sections": [],
      "authorship_tag": "ABX9TyOk/HVUQiZCBTttQ1VGV19+",
      "include_colab_link": true
    },
    "kernelspec": {
      "name": "python3",
      "display_name": "Python 3"
    },
    "language_info": {
      "name": "python"
    }
  },
  "cells": [
    {
      "cell_type": "markdown",
      "metadata": {
        "id": "view-in-github",
        "colab_type": "text"
      },
      "source": [
        "<a href=\"https://colab.research.google.com/github/HemanthK1708/Telegram-Bot-For-Beginner-using-PYTHON/blob/main/Telegram_Bot_with_PYTHON_for_Beginners.ipynb\" target=\"_parent\"><img src=\"https://colab.research.google.com/assets/colab-badge.svg\" alt=\"Open In Colab\"/></a>"
      ]
    },
    {
      "cell_type": "markdown",
      "metadata": {
        "id": "E03RtkOFjDuR"
      },
      "source": [
        "# **Telegram Bot with Python**\n",
        "\n",
        "A bot is a software application programmed to perform certain tasks. The robots are automated, which means that they operate according to their instructions without a human user needing to start them. Bots often mimic or replace the behaviour of a human user. In this article, I will create a Telegram bot with Python, by using the telegram API.\n",
        "\n",
        "To create a Telegram Bot using Python, you need to go through some steps to get a telegram bot API from the BotFather account on Telegram. BotFather is simply s Bot which helps in creating more bots by providing a unique API. So before using python to create our Telegram bot, we need to go through some steps to get the API."
      ]
    },
    {
      "cell_type": "markdown",
      "metadata": {
        "id": "x7T8j2RNjV1k"
      },
      "source": [
        "# **Steps to Get the Telegram Bot API**\n",
        "\n",
        "First, create an account on telegram if you don’t have an account. After making your account search for BotFather, which is an official telegram bot that provides API to create more bots. When you will open the chat just write /start and send. The BatFather will reply you with a long text without reading the text you can type **Newbot**.\n",
        "\n",
        "Now it will reply you again with a long text, asking about a good name for you Telegram bot. You can write any name on it. Now the next step is to give a username to your bot which should be in a format Namebot or Name_bot. And the main thing to notice in this step is that your username should be a unique one, it should not match any other username all around the world.\n",
        "\n",
        "Now after typing a unique username, it will send you an API key between a long message, you need to copy that username and get started with Python."
      ]
    },
    {
      "cell_type": "markdown",
      "metadata": {
        "id": "1g5zbAy8jqYA"
      },
      "source": [
        "# **Telegram Bot with Python**\n",
        "\n",
        "Now, we have the API key to build our telegram bot, the next step is to install a package known as telegram, which can be easily installed by using the pip command in your command prompt or terminal – **pip install python-telegram-bot**."
      ]
    },
    {
      "cell_type": "code",
      "metadata": {
        "id": "OaANTiuAin97"
      },
      "source": [
        "pip install python-telegram-bot"
      ],
      "execution_count": null,
      "outputs": []
    },
    {
      "cell_type": "markdown",
      "metadata": {
        "id": "m1Z_W4N6mbys"
      },
      "source": [
        "After successfully installing the package, now let’s import the required packages and get started to make a Telegram Bot with Python. We only need the telegram package for this task, I will import it and prepare our program to read our API Key:"
      ]
    },
    {
      "cell_type": "code",
      "metadata": {
        "id": "AqpKwBVuma5P"
      },
      "source": [
        "import telegram\n",
        "bot = telegram.bot(token='TOKEN') #Replace TOKEN with your token string"
      ],
      "execution_count": null,
      "outputs": []
    },
    {
      "cell_type": "markdown",
      "metadata": {
        "id": "h5h7HCdGmrHN"
      },
      "source": [
        "Now that everything is working, let’s follow the tradition and create a Hello World program. I will simply program our chatbot here with a command on which our telegram bot will respond with the message *“Hello, World”*:\n",
        "\n"
      ]
    },
    {
      "cell_type": "code",
      "metadata": {
        "id": "E1uN0_tVmvO3"
      },
      "source": [
        "from telegram.ext import Updater, CommandHandler, MessageHandler, Filters\n",
        "\n",
        "updater = Updater(token='TOKEN', use_context=True) #Replace TOKEN with your token string\n",
        "\n",
        "dispatcher = updater.dispatcher"
      ],
      "execution_count": null,
      "outputs": []
    },
    {
      "cell_type": "markdown",
      "metadata": {
        "id": "z_gGJI-Vm5M6"
      },
      "source": [
        "Now let’s create a hello function that sends the desired text message through the bot:"
      ]
    },
    {
      "cell_type": "code",
      "metadata": {
        "id": "nSSHAT0am6XP"
      },
      "source": [
        "def hello(update, context):\n",
        "    context.bot.send_message(chat_id=update.effective_chat.id, text='Hello, World')"
      ],
      "execution_count": null,
      "outputs": []
    },
    {
      "cell_type": "markdown",
      "metadata": {
        "id": "WAUsmNI3m-GN"
      },
      "source": [
        "We now use a CommandHandler and register it in the dispatcher. Basically, we bind the / hello command with the hello () function:"
      ]
    },
    {
      "cell_type": "code",
      "metadata": {
        "id": "iDt60lc6nD9g"
      },
      "source": [
        "hello_handler = CommandHandler('hello', hello)\n",
        "dispatcher.add_handler(hello_handler)"
      ],
      "execution_count": null,
      "outputs": []
    },
    {
      "cell_type": "markdown",
      "metadata": {
        "id": "I4EyewEVnK3l"
      },
      "source": [
        "And that’s it. To start our bot, add this code at the end of the file:"
      ]
    },
    {
      "cell_type": "code",
      "metadata": {
        "id": "2jYWT5n6nKJv"
      },
      "source": [
        "updater.start_polling()"
      ],
      "execution_count": null,
      "outputs": []
    },
    {
      "cell_type": "markdown",
      "metadata": {
        "id": "ncPBSXBWnOoR"
      },
      "source": [
        "Now, run the code and write **/hello** in you your telegram messenger to your telegram bot. It will reply with the text “**Hello World**”."
      ]
    }
  ]
}